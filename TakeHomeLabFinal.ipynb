{
 "cells": [
  {
   "cell_type": "markdown",
   "metadata": {
    "editable": false
   },
   "source": [
    "Rubric code: Trevelyan\n",
    "# Take Home Lab Final Exam <font color=red>(60 marks)</font>#\n",
    "* Available April 1, 2020 @ 12:01 AM\n",
    "* Due April 8, 2020 @ 11:59 PM\n",
    "\n",
    "## Objectives: ##\n",
    "To assess student's mastery of using appropriate R commands.\n",
    "\n",
    "## Instructions: ##\n",
    "* You may use the \"<em>R commands so far</em>\" file on moodle.\n",
    "* You may look at the other tutorials, both your solutions and the sample solutions.\n",
    "* You may look up material in your textbook.\n",
    "* You may reference your notes.<br><br>\n",
    "\n",
    "* You may NOT work with another student to complete the exam.\n",
    "* You may NOT ask another student in the class how to answer any question. \n",
    "* You may NOT ask someone outside of the course to help you answer any question.\n",
    "\n",
    "## Assessment: ##\n",
    "* You must show all R commands used to find the solutions.\n",
    "* Marks are assigned for using appropriate R commands and using R for your calculations.\n",
    "* Correctly calculated answers without appropriate R command/calculations shown will be worth 0 marks.\n",
    "\n",
    "## Formulae: ##\n",
    "No formlae are provided for this tutorial.\n",
    "\n",
    "## Tools: ##"
   ]
  },
  {
   "cell_type": "code",
   "execution_count": 1,
   "metadata": {
    "editable": false
   },
   "outputs": [],
   "source": [
    "census150 <- read.csv(\"census150.csv\",header=TRUE)"
   ]
  },
  {
   "cell_type": "markdown",
   "metadata": {
    "editable": false
   },
   "source": [
    "## Data Information: ##\n",
    "\n",
    "### Data Set 1: ###\n",
    "A small random sample of observations from the 2000 U.S. Census Data.\n",
    "#### Name: #### \n",
    "* `census150` - a sample of 150 observations from the 2000 U.S. Census Data.\n",
    "\n",
    "#### Variables: ####\n",
    "* `census_year` - Census Year.\n",
    "* `state_fips_code` - Name of state.\n",
    "* `total_family_income` - Total family income (in U.S. dollars).\n",
    "* `age` - Age.\n",
    "* `sex` - Sex with levels: Female and Male.\n",
    "* `race_general` - Race with levels: American Indian or Alaska Native, Black, Chinese, Japanese, Other Asian or Pacific Islander, Two major races, White and Other.\n",
    "* `marital_status` - Marital status with levels Divorced, Married/spouse absent, Married/spouse present, Never married/single, Separated and Widowed.\n",
    "* `total_personal_income` - Total personal income (in U.S. dollars).\n",
    "* `percent_family_income` - the percent of the family income earned by the participant, calculated by dividing the personal income by the family income (unless the family income is 0, then the value of this variable is set to 0) given as a percentage.\n",
    "\n",
    "### Data Set 2: ###\n",
    "The Behavioral Risk Factor Surveillance System (BRFSS) is an annual telephone survey of 350,000 people in the United States. As its name implies, the BRFSS is designed to identify risk factors in the adult population and report emerging health trends. For example, respondents are asked about their diet and weekly physical activity, their HIV/AIDS status, possible tobacco use, and even their level of healthcare coverage. The BRFSS Web site (http://www.cdc.gov/brfss) contains a complete description of the survey, including the research questions that motivate the study and many interesting results derived from the data.\n",
    "\n",
    "<br>These data consist of 1000 randomly selected entries from the larger study described above.\n",
    "\n",
    "#### Variables: ####\n",
    "* `genhlth` - respondents were asked to evaluate their general health, responding either excellent, very good, good, fair or poor\n",
    "* `hlthplan` - whether the respondent had some form of health coverage (insured) or did not (uninsured).\n",
    "\n",
    "#### Table (also displayed in question 4) ####\n",
    "<table><tr><td>\t\t</td><td>\tinsured\t</td><td>\tuninsured\t</td></tr>\t\n",
    "<tr><td>\t0-poor\t</td><td>\t16\t</td><td>\t7\t</td></tr>\t\n",
    "<tr><td>\t1-fair\t</td><td>\t70\t</td><td>\t25\t</td></tr>\t\n",
    "<tr><td>\t2-good\t</td><td>\t249\t</td><td>\t43\t</td></tr>\t\n",
    "<tr><td>\t3-very good\t</td><td>\t310\t</td><td>\t36\t</td></tr>\t\n",
    "<tr><td>\t4-excellent\t</td><td>\t211\t</td><td>\t33\t</td></tr></table>\t\n",
    "\n",
    "\n",
    "### Data Set 3: ###\n",
    "Height data by country as presented on tall.Life (https://tall.life/)."
   ]
  },
  {
   "cell_type": "markdown",
   "metadata": {
    "editable": false
   },
   "source": [
    "# Question 1 <font color=red>(10 marks)</font>##\n",
    "### Use the `census150` data to complete each of the following tasks using R commands ###\n",
    "* a. Determine the minimum age of the respondents. \n",
    "* b. Determine the race of the respondent with the minimum age.\n",
    "* c. Determine the maximum total family income of the respondents. \n",
    "* d. Determine the race of the respondent with the maximum total family income.\n",
    "* e. Determine the range of the total family income of the respondents.\n",
    "* f. Determine the lower quartile, median, and upper quartile of the total family income of the respondents.\n",
    "* g. Determine the interquartile range of the total family income of the respondents.\n",
    "* h. Determine the mean total family income of those respondents that have never married (single) and male."
   ]
  },
  {
   "cell_type": "code",
   "execution_count": null,
   "metadata": {},
   "outputs": [],
   "source": [
    "This is a code cell, use the + symbol in the menu above to create as many code cells as you need."
   ]
  },
  {
   "cell_type": "markdown",
   "metadata": {
    "editable": false
   },
   "source": [
    "### Answer 1. ##"
   ]
  },
  {
   "cell_type": "markdown",
   "metadata": {},
   "source": [
    "* a. _ \n",
    "* b. _\n",
    "* c. _ \n",
    "* d. _\n",
    "* e. _\n",
    "* f. _\n",
    "* g. _\n",
    "* h. _"
   ]
  },
  {
   "cell_type": "markdown",
   "metadata": {
    "editable": false
   },
   "source": [
    "# Question 2 <font color=red>(9 marks)</font>##\n",
    "### Use the `census150` data to complete each of the following tasks using R commands ###\n",
    "### Label all of the graphics appropriately. ###\n",
    "* a. Make a histogram for the total family income of the respondents. \n",
    "* b. Make side-by-side boxplots for the total family income of the female and male respondents. \n",
    "* c. Make a scatterplot for the total family income and ages of the respondents."
   ]
  },
  {
   "cell_type": "markdown",
   "metadata": {
    "editable": false
   },
   "source": [
    "### Answer 2a. ##"
   ]
  },
  {
   "cell_type": "code",
   "execution_count": null,
   "metadata": {},
   "outputs": [],
   "source": [
    "This is a code cell, use the + symbol in the menu above to create as many code cells as you need."
   ]
  },
  {
   "cell_type": "markdown",
   "metadata": {},
   "source": [
    "### Answer 2b. ##"
   ]
  },
  {
   "cell_type": "code",
   "execution_count": null,
   "metadata": {},
   "outputs": [],
   "source": [
    "This is a code cell, use the + symbol in the menu above to create as many code cells as you need."
   ]
  },
  {
   "cell_type": "markdown",
   "metadata": {},
   "source": [
    "### Answer 2c. ##"
   ]
  },
  {
   "cell_type": "code",
   "execution_count": null,
   "metadata": {},
   "outputs": [],
   "source": [
    "This is a code cell, use the + symbol in the menu above to create as many code cells as you need."
   ]
  },
  {
   "cell_type": "markdown",
   "metadata": {},
   "source": [
    "# Question 3 <font color=red>(10 marks)</font>##\n",
    "### Use the `census150` data to complete each of the following tasks using R commands ###\n",
    "### Label all of the graphics appropriately. ###\n",
    "* a. Make a contingency table for the marital status and sex of the respondents.\n",
    "* b. Make a relative frequency table for the marital status and sex of the respondents, split by sex first then marital status.\n",
    "* c. Make a stacked barplot for the marital status of the respondents split by their sex. \n",
    "* d. Make a mosaic plot for the marital status of the respondents split by their sex. "
   ]
  },
  {
   "cell_type": "markdown",
   "metadata": {},
   "source": [
    "### Answer 3a. ##"
   ]
  },
  {
   "cell_type": "code",
   "execution_count": null,
   "metadata": {},
   "outputs": [],
   "source": [
    "This is a code cell, use the + symbol in the menu above to create as many code cells as you need."
   ]
  },
  {
   "cell_type": "markdown",
   "metadata": {},
   "source": [
    "### Answer 3b. ##"
   ]
  },
  {
   "cell_type": "code",
   "execution_count": null,
   "metadata": {},
   "outputs": [],
   "source": [
    "This is a code cell, use the + symbol in the menu above to create as many code cells as you need."
   ]
  },
  {
   "cell_type": "markdown",
   "metadata": {},
   "source": [
    "### Answer 3c. ##"
   ]
  },
  {
   "cell_type": "code",
   "execution_count": null,
   "metadata": {},
   "outputs": [],
   "source": [
    "This is a code cell, use the + symbol in the menu above to create as many code cells as you need."
   ]
  },
  {
   "cell_type": "markdown",
   "metadata": {},
   "source": [
    "### Answer 3d. ##"
   ]
  },
  {
   "cell_type": "code",
   "execution_count": null,
   "metadata": {},
   "outputs": [],
   "source": [
    "This is a code cell, use the + symbol in the menu above to create as many code cells as you need."
   ]
  },
  {
   "cell_type": "markdown",
   "metadata": {},
   "source": [
    "# Question 4 <font color=red>(10 marks)</font>##\n",
    "### Use the table below to complete each of the following tasks by using R as your calculator ###\n",
    "<table><tr><td>\t\t</td><td>\tinsured\t</td><td>\tuninsured\t</td></tr>\t\n",
    "<tr><td>\t0-poor\t</td><td>\t16\t</td><td>\t7\t</td></tr>\t\n",
    "<tr><td>\t1-fair\t</td><td>\t70\t</td><td>\t25\t</td></tr>\t\n",
    "<tr><td>\t2-good\t</td><td>\t249\t</td><td>\t43\t</td></tr>\t\n",
    "<tr><td>\t3-very good\t</td><td>\t310\t</td><td>\t36\t</td></tr>\t\n",
    "<tr><td>\t4-excellent\t</td><td>\t211\t</td><td>\t33\t</td></tr></table>\t\n",
    "\n",
    "Determine the probability that a randomly selected member of this sample will be...\n",
    "* a. ... uninsured.\n",
    "* b. ... not in excellent health.\n",
    "* c. ... in poor or fair health.\n",
    "* d. ... in excellent health or insured.\n",
    "* e. ... in poor health and uninsured.\n",
    "* f. ... in poor health given that they are insured."
   ]
  },
  {
   "cell_type": "code",
   "execution_count": null,
   "metadata": {},
   "outputs": [],
   "source": [
    "This is a code cell, use the + symbol in the menu above to create as many code cells as you need."
   ]
  },
  {
   "cell_type": "markdown",
   "metadata": {},
   "source": [
    "### Answer 4. ##"
   ]
  },
  {
   "cell_type": "markdown",
   "metadata": {},
   "source": [
    "* a. _ \n",
    "* b. _\n",
    "* c. _ \n",
    "* d. _\n",
    "* e. _\n",
    "* f. _"
   ]
  },
  {
   "cell_type": "markdown",
   "metadata": {},
   "source": [
    "# Question 5 <font color=red>(12 marks)</font>##\n",
    "### Use the information presented below to complete each of the following tasks by using R commands and/or using R as your calculator ###\n",
    "According to the 2016 Canadian census, as of May 10 2016 there were 35,151,728 Canadian citizens and 13,448,494 of them lived in Ontario.\n",
    "* a. Determine the probability that a randomly selected Canadian lives in Ontario.\n",
    "* b. Let $X$ be a random variable representing the number of randomly selected Canadians out of a sample of 95 that live in Ontario then $X$ is a binomial random variable. Give the short form for $X$.\n",
    "* c. Determine the mean of $X$.\n",
    "* d. Determine the standard deviation of $X$.\n",
    "* e. Determine the following probabilities:\n",
    "  * i. $P(X<26)$\n",
    "  * ii. $P(X\\le32)$\n",
    "  * iii. $P(X=33)$\n",
    "  * iv. $P(X\\ge47)$\n",
    "  * v. $P(29<X\\le41)$"
   ]
  },
  {
   "cell_type": "code",
   "execution_count": null,
   "metadata": {},
   "outputs": [],
   "source": [
    "This is a code cell, use the + symbol in the menu above to create as many code cells as you need."
   ]
  },
  {
   "cell_type": "markdown",
   "metadata": {},
   "source": [
    "### Answer 5. ##"
   ]
  },
  {
   "cell_type": "markdown",
   "metadata": {},
   "source": [
    "* a. _ \n",
    "* b. _\n",
    "* c. _ \n",
    "* d. _\n",
    "* e. \n",
    "  * i. _\n",
    "  * ii. _\n",
    "  * iii. _\n",
    "  * iv. _\n",
    "  * v. _"
   ]
  },
  {
   "cell_type": "markdown",
   "metadata": {},
   "source": [
    "# Question 6 <font color=red>(9 marks)</font>##\n",
    "### Use the information presented below to complete each of the following tasks by using R commands and/or using R as your calculator ###\n",
    "According to the website Tall Life, the heights of adult men in Turkey are normally distributed with a mean of 173.6 cm and a standard deviation of 7.42 cm. Let $Y$ be a random variable representing the height in cm of men in Turkey.\n",
    "* a. Give the short form for $Y$.\n",
    "* b. Determine the following probabilities:\n",
    "  * i. $P(Y<168)$\n",
    "  * ii. $P(Y>191)$\n",
    "  * iii. $P(157<Y<163)$\n",
    "* c. Determine the following values:\n",
    "  * i. The 87th percentile.\n",
    "  * ii. The minimum height to be among the tallest 8% of men in Turkey."
   ]
  },
  {
   "cell_type": "code",
   "execution_count": null,
   "metadata": {},
   "outputs": [],
   "source": [
    "This is a code cell, use the + symbol in the menu above to create as many code cells as you need."
   ]
  },
  {
   "cell_type": "markdown",
   "metadata": {},
   "source": [
    "### Answer 6. ##"
   ]
  },
  {
   "cell_type": "markdown",
   "metadata": {},
   "source": [
    "* a. _\n",
    "* b. \n",
    "  * i. _\n",
    "  * ii. _\n",
    "  * iii. _\n",
    "* c. \n",
    "  * i. _\n",
    "  * ii. _"
   ]
  },
  {
   "cell_type": "markdown",
   "metadata": {},
   "source": [
    "---\n",
    "---\n",
    "#### This tutorial is released under a Creative Commons Attribution-ShareAlike 3.0 Unported.\n",
    "\n",
    "This tutorial has been adapted from a lab that  was adapted for OpenIntro by Andrew Bray and Mine Çetinkaya-Rundel from a lab written by Mark Hansen of UCLA Statistics.\n",
    "\n",
    "---\n",
    "---"
   ]
  }
 ],
 "metadata": {
  "celltoolbar": "Edit Metadata",
  "kernelspec": {
   "display_name": "R",
   "language": "R",
   "name": "ir"
  },
  "language_info": {
   "codemirror_mode": "r",
   "file_extension": ".r",
   "mimetype": "text/x-r-source",
   "name": "R",
   "pygments_lexer": "r",
   "version": "3.6.1"
  }
 },
 "nbformat": 4,
 "nbformat_minor": 2
}
